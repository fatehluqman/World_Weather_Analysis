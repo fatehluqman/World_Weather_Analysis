{
 "cells": [
  {
   "cell_type": "code",
   "execution_count": 42,
   "id": "c81940e7",
   "metadata": {},
   "outputs": [],
   "source": [
    "# import random module\n",
    "# import numpy module\n",
    "# import timeit\n",
    "# import random ( no need to import if importing numpy)\n",
    "import numpy as np \n",
    "import timeit"
   ]
  },
  {
   "cell_type": "code",
   "execution_count": 6,
   "id": "1a682fc6",
   "metadata": {},
   "outputs": [
    {
     "data": {
      "text/plain": [
       "70"
      ]
     },
     "execution_count": 6,
     "metadata": {},
     "output_type": "execute_result"
    }
   ],
   "source": [
    "random.randint (-90, 90)"
   ]
  },
  {
   "cell_type": "code",
   "execution_count": 10,
   "id": "24ae921d",
   "metadata": {},
   "outputs": [
    {
     "data": {
      "text/plain": [
       "0.23188498897659315"
      ]
     },
     "execution_count": 10,
     "metadata": {},
     "output_type": "execute_result"
    }
   ],
   "source": [
    "random.random()"
   ]
  },
  {
   "cell_type": "code",
   "execution_count": 16,
   "id": "3be1652f",
   "metadata": {},
   "outputs": [
    {
     "data": {
      "text/plain": [
       "-68.12615435789391"
      ]
     },
     "execution_count": 16,
     "metadata": {},
     "output_type": "execute_result"
    }
   ],
   "source": [
    "random_number = random.randint(-90, 90) + random.random()\n",
    "random_number"
   ]
  },
  {
   "cell_type": "code",
   "execution_count": 25,
   "id": "b84855a7",
   "metadata": {},
   "outputs": [
    {
     "data": {
      "text/plain": [
       "[14.93092570449282,\n",
       " -32.891045863576316,\n",
       " 39.26850688147916,\n",
       " 22.985974945311515,\n",
       " 32.09894750943789,\n",
       " -34.749403845841584,\n",
       " 62.10925940688045,\n",
       " 30.559696362716213,\n",
       " -78.06233410934168,\n",
       " 54.97536991885856]"
      ]
     },
     "execution_count": 25,
     "metadata": {},
     "output_type": "execute_result"
    }
   ],
   "source": [
    "x = 1\n",
    "lats = []\n",
    "while x < 11:\n",
    "    random_lat = random.randint(-90, 89) + random.random()\n",
    "    lats.append(random_lat)\n",
    "    x += 1\n",
    "\n",
    "(lats)"
   ]
  },
  {
   "cell_type": "code",
   "execution_count": 33,
   "id": "ff9ddd1e",
   "metadata": {},
   "outputs": [
    {
     "data": {
      "text/plain": [
       "-27"
      ]
     },
     "execution_count": 33,
     "metadata": {},
     "output_type": "execute_result"
    }
   ],
   "source": [
    "random.randrange(-90,90, step=3)"
   ]
  },
  {
   "cell_type": "code",
   "execution_count": 36,
   "id": "ebe224e9",
   "metadata": {},
   "outputs": [
    {
     "data": {
      "text/plain": [
       "-80.42611939466049"
      ]
     },
     "execution_count": 36,
     "metadata": {},
     "output_type": "execute_result"
    }
   ],
   "source": [
    "random.uniform(-90,90)"
   ]
  },
  {
   "cell_type": "code",
   "execution_count": 40,
   "id": "374f6b75",
   "metadata": {},
   "outputs": [
    {
     "data": {
      "text/plain": [
       "30.291800728346246"
      ]
     },
     "execution_count": 40,
     "metadata": {},
     "output_type": "execute_result"
    }
   ],
   "source": [
    "np.random.uniform(-90.000, 90.000)"
   ]
  },
  {
   "cell_type": "code",
   "execution_count": 41,
   "id": "891d0938",
   "metadata": {},
   "outputs": [
    {
     "data": {
      "text/plain": [
       "array([-17.75087081,  89.79983811,  16.48633232, -51.16782621,\n",
       "        50.28357511,  67.17090123,  31.08114887,  -7.10107986,\n",
       "       -66.47140565,  47.08817001,  60.51200328, -29.72145344,\n",
       "        66.88906251,  26.27200379, -54.8392666 , -78.37988702,\n",
       "        82.24126664, -12.30050142, -45.69663982,  23.84952565,\n",
       "        66.35548248, -39.94549794, -78.53789909, -44.88257831,\n",
       "       -46.82021913, -31.61926788,  50.88862454,  37.97424054,\n",
       "       -48.63209028, -37.18399896, -11.40556839,  77.08694001,\n",
       "       -21.99231826, -84.0130682 , -44.22002851, -16.80445499,\n",
       "        42.43328332,  79.15893397,  48.62082622,  -0.23597528,\n",
       "        18.95930436,  47.49380935,  25.53710221, -31.21789054,\n",
       "       -74.91579931,  71.46820228,  65.0070655 , -50.77010698,\n",
       "        87.30291759,  65.38640023])"
      ]
     },
     "execution_count": 41,
     "metadata": {},
     "output_type": "execute_result"
    }
   ],
   "source": [
    "np.random.uniform(-90.000, 90.000, size = 50)"
   ]
  },
  {
   "cell_type": "code",
   "execution_count": 49,
   "id": "548f3f32",
   "metadata": {},
   "outputs": [
    {
     "name": "stdout",
     "output_type": "stream",
     "text": [
      "17.6 µs ± 516 ns per loop (mean ± std. dev. of 7 runs, 100000 loops each)\n"
     ]
    }
   ],
   "source": [
    "%timeit np.random.uniform(-90.000, 90.000, size = 1500)"
   ]
  },
  {
   "cell_type": "code",
   "execution_count": 52,
   "id": "415282bc",
   "metadata": {},
   "outputs": [
    {
     "name": "stdout",
     "output_type": "stream",
     "text": [
      "2.92 ms ± 140 µs per loop (mean ± std. dev. of 7 runs, 1000 loops each)\n"
     ]
    }
   ],
   "source": [
    "def latitude(size):\n",
    "    lats = []\n",
    "    x = 0\n",
    "    while x < (size):\n",
    "        random_lat = random.randint(-90, 90) + random.random()\n",
    "        lats.append(random_lat)\n",
    "        x += 1\n",
    "    return lats\n",
    "\n",
    "#call the function 1500\n",
    "%timeit latitude(1500)"
   ]
  }
 ],
 "metadata": {
  "kernelspec": {
   "display_name": "PythonData",
   "language": "python",
   "name": "pythondata"
  },
  "language_info": {
   "codemirror_mode": {
    "name": "ipython",
    "version": 3
   },
   "file_extension": ".py",
   "mimetype": "text/x-python",
   "name": "python",
   "nbconvert_exporter": "python",
   "pygments_lexer": "ipython3",
   "version": "3.7.10"
  }
 },
 "nbformat": 4,
 "nbformat_minor": 5
}
